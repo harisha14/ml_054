{
 "cells": [
  {
   "cell_type": "code",
   "execution_count": 1,
   "id": "d869d1d5",
   "metadata": {},
   "outputs": [
    {
     "name": "stdout",
     "output_type": "stream",
     "text": [
      "jk\n"
     ]
    }
   ],
   "source": [
    "print('jk')"
   ]
  },
  {
   "cell_type": "code",
   "execution_count": 6,
   "id": "0f4303b7",
   "metadata": {},
   "outputs": [],
   "source": [
    "import numpy as np\n",
    "import pandas as pd"
   ]
  },
  {
   "cell_type": "code",
   "execution_count": 9,
   "id": "7ab7a5fd",
   "metadata": {},
   "outputs": [
    {
     "name": "stdout",
     "output_type": "stream",
     "text": [
      "      Time Weather Temperature Company Humidity    Wind Goes\n",
      "0  Morning   Sunny        Warm     Yes     Mild  Strong  Yes\n",
      "1  Evening   Rainy        Cold      No     Mild  Normal   No\n",
      "2  Morning   Sunny    Moderate     Yes   Normal  Normal  Yes\n",
      "3  Evening   Sunny        Cold     Yes     High  Strong  Yes \n",
      "\n"
     ]
    }
   ],
   "source": [
    "data = pd.read_csv(\"C:/Users/bmsce/Documents/054/data.csv\")\n",
    "print(data,\"\\n\")"
   ]
  },
  {
   "cell_type": "code",
   "execution_count": 10,
   "id": "84ce77bd",
   "metadata": {},
   "outputs": [
    {
     "name": "stdout",
     "output_type": "stream",
     "text": [
      "\n",
      " The attributes are:  [['Morning' 'Sunny' 'Warm' 'Yes' 'Mild' 'Strong']\n",
      " ['Evening' 'Rainy' 'Cold' 'No' 'Mild' 'Normal']\n",
      " ['Morning' 'Sunny' 'Moderate' 'Yes' 'Normal' 'Normal']\n",
      " ['Evening' 'Sunny' 'Cold' 'Yes' 'High' 'Strong']]\n",
      "\n",
      " The target is:  ['Yes' 'No' 'Yes' 'Yes']\n"
     ]
    }
   ],
   "source": [
    "\n",
    "d = np.array(data)[:,:-1]\n",
    "print(\"\\n The attributes are: \",d)\n",
    "target = np.array(data)[:,-1]\n",
    "print(\"\\n The target is: \",target)"
   ]
  },
  {
   "cell_type": "code",
   "execution_count": 11,
   "id": "b9ad951f",
   "metadata": {},
   "outputs": [
    {
     "name": "stdout",
     "output_type": "stream",
     "text": [
      "\n",
      " The final hypothesis is: ['?' 'Sunny' '?' 'Yes' '?' '?']\n"
     ]
    }
   ],
   "source": [
    "\n",
    "def findS(c,t):\n",
    "    for i, val in enumerate(t):\n",
    "        if val == \"Yes\":\n",
    "            specific_hypothesis = c[i].copy()\n",
    "            break\n",
    "             \n",
    "    for i, val in enumerate(c):\n",
    "        if t[i] == \"Yes\":\n",
    "            for x in range(len(specific_hypothesis)):\n",
    "                if val[x] != specific_hypothesis[x]:\n",
    "                    specific_hypothesis[x] = '?'\n",
    "                else:\n",
    "                    pass\n",
    "                 \n",
    "    return specific_hypothesis\n",
    " \n",
    "print(\"\\n The final hypothesis is:\",findS(d,target))"
   ]
  },
  {
   "cell_type": "code",
   "execution_count": null,
   "id": "8033d5b0",
   "metadata": {},
   "outputs": [],
   "source": []
  }
 ],
 "metadata": {
  "kernelspec": {
   "display_name": "Python 3 (ipykernel)",
   "language": "python",
   "name": "python3"
  },
  "language_info": {
   "codemirror_mode": {
    "name": "ipython",
    "version": 3
   },
   "file_extension": ".py",
   "mimetype": "text/x-python",
   "name": "python",
   "nbconvert_exporter": "python",
   "pygments_lexer": "ipython3",
   "version": "3.9.2"
  }
 },
 "nbformat": 4,
 "nbformat_minor": 5
}
